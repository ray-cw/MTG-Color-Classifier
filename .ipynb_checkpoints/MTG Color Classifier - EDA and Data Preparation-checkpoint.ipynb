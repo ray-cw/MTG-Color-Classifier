{
 "cells": [
  {
   "cell_type": "markdown",
   "id": "e9d27267",
   "metadata": {},
   "source": [
    "# MTG: Color Classifier"
   ]
  },
  {
   "cell_type": "code",
   "execution_count": 1,
   "id": "3f8bd4c3",
   "metadata": {},
   "outputs": [],
   "source": [
    "# Imports\n",
    "\n",
    "import numpy as np\n",
    "import pandas as pd\n",
    "import matplotlib.pyplot as plt\n",
    "import seaborn as sns\n",
    "\n",
    "# For downloading the data\n",
    "import requests\n",
    "\n",
    "import json\n",
    "\n",
    "# NLP\n",
    "\n",
    "from sklearn.feature_extraction.text import CountVectorizer, ENGLISH_STOP_WORDS\n",
    "\n",
    "from wordcloud import WordCloud, get_single_color_func\n",
    "from PIL import Image\n",
    "\n",
    "# Splitting the data\n",
    "\n",
    "from sklearn.model_selection import train_test_split\n",
    "\n",
    "# Model Evaluation\n",
    "from sklearn.metrics import classification_report\n",
    "\n",
    "# Helper functions\n",
    "from helper_functions import plot_distribution"
   ]
  },
  {
   "cell_type": "markdown",
   "id": "ac8de6a6",
   "metadata": {},
   "source": [
    "# Table of Contents\n",
    "\n",
    "1. [Introduction](#Introduction)\n",
    "2. [EDA](#EDA)\n",
    "3. [References](#References)"
   ]
  },
  {
   "cell_type": "markdown",
   "id": "025dcfb9",
   "metadata": {},
   "source": [
    "## Introduction\n",
    "\n",
    "On August 5th, 1993, Wizards of the Coast released the first set of Magic: The Gathering, *Limited Edition Alpha*. This then unknown card game began with 295 cards. Today, it is one of the most popular trading card games, right up there with Yugioh and Pokemon TCG, with a cardbase exceeding 24,000 unique entries. \n",
    "\n",
    "In Magic, you the player are a 'planeswalker' (in layman terms, think of yourself as a spellcaster), your deck represents your spellbook, and the individual cards represent different spells. Each card contains a various bits of information: what your spell does, what it costs to cast it, the type of spell it is, et cetera. In this project, we will be looking at these features and fit them to a classification model, to determine our dependant: the color identity of the card.\n",
    "\n",
    "### What do we mean by 'color identity'?\n",
    "\n",
    "<div style=\"text-align: left; display: inline-block; margin-top: 1.5em;\">\n",
    "<img src=\"assets/fivecolors.jpg\" style=\"height: 50px\" >\n",
    "</div>\n",
    "\n",
    "There are 5 colors in MTG. We can also consider the absence of any color to be a 6th color identity. Cards with the same color identity will have similar themes, such as similar keywords. Cards can also be of multiple color identities. The aim of this project will be to train a model to recognize these patterns in the card's description, and other provided independants, to classify the card accordingly.\n",
    "\n",
    "### The Dataset\n",
    "\n",
    "I have obtained a dataset of all unique cards (up to July 8) from [MTGJSON.com](https://mtgjson.com)."
   ]
  },
  {
   "cell_type": "code",
   "execution_count": 2,
   "id": "ac191672",
   "metadata": {},
   "outputs": [
    {
     "name": "stdout",
     "output_type": "stream",
     "text": [
      "Meta: {'date': '2022-07-21', 'version': '5.2.0+20220721'}\n",
      "Unique Cards: 24719\n"
     ]
    }
   ],
   "source": [
    "# You can use the code below to use our locally saved version of AtomicCards.json instead\n",
    "# with open('data/AtomicCards.json') as f:\n",
    "#    atomic_json = json.load(f)\n",
    "\n",
    "r = requests.get(\"https://mtgjson.com/api/v5/AtomicCards.json\")\n",
    "atomic_json = r.json()\n",
    "\n",
    "print(\"Meta:\", atomic_json['meta']) \n",
    "print(\"Unique Cards:\", len(atomic_json['data'].keys()))"
   ]
  },
  {
   "cell_type": "markdown",
   "id": "992906c9",
   "metadata": {},
   "source": [
    "Each unique card is represented by a dictionary of key-value pairs. Which keys are present will vary from card to card. For example, if a card is not a creature, there will be no mention of toughness or power."
   ]
  },
  {
   "cell_type": "code",
   "execution_count": 3,
   "id": "b0ee8fa8",
   "metadata": {},
   "outputs": [
    {
     "name": "stdout",
     "output_type": "stream",
     "text": [
      "dict_keys(['colorIdentity', 'colors', 'convertedManaCost', 'edhrecRank', 'foreignData', 'identifiers', 'keywords', 'layout', 'legalities', 'manaCost', 'manaValue', 'name', 'power', 'printings', 'purchaseUrls', 'rulings', 'subtypes', 'supertypes', 'text', 'toughness', 'type', 'types'])\n"
     ]
    }
   ],
   "source": [
    "# Output the keys of a creature card\n",
    "print(atomic_json['data']['Snapcaster Mage'][0].keys())"
   ]
  },
  {
   "cell_type": "markdown",
   "id": "e40b783d",
   "metadata": {},
   "source": [
    "There are certainly a lot of features, but we will be using the following as our independants:\n",
    "\n",
    "* `manaValue`\n",
    "* `name`\n",
    "* `text`\n",
    "* `keywords`\n",
    "* `power`\n",
    "* `toughness`\n",
    "* `power : toughness`\n",
    "* `(power + toughness) : manaValue`\n",
    "* `types`\n",
    "* `subtypes`\n",
    "\n",
    "While it won't be used in the dataframe, we will be looking at `legalities` key to eliminate cards that have never been legal in a Standard MTG format. These includes cards from 'Un-sets' (joke sets) which don't follow traditional MTG design principles. "
   ]
  },
  {
   "cell_type": "code",
   "execution_count": 4,
   "id": "369a92a4",
   "metadata": {},
   "outputs": [],
   "source": [
    "# Initialize dataframe\n",
    "\n",
    "features = [\"colors\",\"manaValue\",\"text\", \"power\", \n",
    "            \"toughness\", \"types\", \"subtypes\"]\n",
    "\n",
    "df_original = pd.DataFrame(columns=features)\n",
    "\n",
    "atomic_data = atomic_json['data']\n",
    "\n",
    "for card in atomic_data:\n",
    "    \n",
    "    try:\n",
    "        legalities = atomic_data[card][0]['legalities']\n",
    "        if legalities == {} : continue # Skip card if it is illegal in any format\n",
    "    except KeyError:\n",
    "        continue\n",
    "            \n",
    "    row = []    \n",
    "    \n",
    "    for feature in features:\n",
    "        try:\n",
    "            row.append(atomic_data[card][0][feature])\n",
    "        except KeyError:\n",
    "            row.append(None)\n",
    "    \n",
    "    if row[5][0] == 'Conspiracy':\n",
    "        continue\n",
    "        \n",
    "    \n",
    "    df_original.loc[card] = row\n"
   ]
  },
  {
   "cell_type": "code",
   "execution_count": 5,
   "id": "b9ba8127",
   "metadata": {
    "scrolled": true
   },
   "outputs": [
    {
     "data": {
      "text/html": [
       "<div>\n",
       "<style scoped>\n",
       "    .dataframe tbody tr th:only-of-type {\n",
       "        vertical-align: middle;\n",
       "    }\n",
       "\n",
       "    .dataframe tbody tr th {\n",
       "        vertical-align: top;\n",
       "    }\n",
       "\n",
       "    .dataframe thead th {\n",
       "        text-align: right;\n",
       "    }\n",
       "</style>\n",
       "<table border=\"1\" class=\"dataframe\">\n",
       "  <thead>\n",
       "    <tr style=\"text-align: right;\">\n",
       "      <th></th>\n",
       "      <th>name</th>\n",
       "      <th>colors</th>\n",
       "      <th>manaValue</th>\n",
       "      <th>text</th>\n",
       "      <th>power</th>\n",
       "      <th>toughness</th>\n",
       "      <th>types</th>\n",
       "      <th>subtypes</th>\n",
       "    </tr>\n",
       "  </thead>\n",
       "  <tbody>\n",
       "    <tr>\n",
       "      <th>0</th>\n",
       "      <td>+2 Mace</td>\n",
       "      <td>[W]</td>\n",
       "      <td>2.0</td>\n",
       "      <td>Equipped creature gets +2/+2.\\nEquip {3} ({3}:...</td>\n",
       "      <td>None</td>\n",
       "      <td>None</td>\n",
       "      <td>[Artifact]</td>\n",
       "      <td>[Equipment]</td>\n",
       "    </tr>\n",
       "    <tr>\n",
       "      <th>1</th>\n",
       "      <td>A Little Chat</td>\n",
       "      <td>[U]</td>\n",
       "      <td>2.0</td>\n",
       "      <td>Casualty 1 (As you cast this spell, you may sa...</td>\n",
       "      <td>None</td>\n",
       "      <td>None</td>\n",
       "      <td>[Instant]</td>\n",
       "      <td>[]</td>\n",
       "    </tr>\n",
       "    <tr>\n",
       "      <th>2</th>\n",
       "      <td>A-Acererak the Archlich</td>\n",
       "      <td>[B]</td>\n",
       "      <td>3.0</td>\n",
       "      <td>When Acererak the Archlich enters the battlefi...</td>\n",
       "      <td>5</td>\n",
       "      <td>5</td>\n",
       "      <td>[Creature]</td>\n",
       "      <td>[Zombie, Wizard]</td>\n",
       "    </tr>\n",
       "    <tr>\n",
       "      <th>3</th>\n",
       "      <td>A-Alrund's Epiphany</td>\n",
       "      <td>[U]</td>\n",
       "      <td>7.0</td>\n",
       "      <td>Take an extra turn after this one. If this spe...</td>\n",
       "      <td>None</td>\n",
       "      <td>None</td>\n",
       "      <td>[Sorcery]</td>\n",
       "      <td>[]</td>\n",
       "    </tr>\n",
       "    <tr>\n",
       "      <th>4</th>\n",
       "      <td>A-Alrund, God of the Cosmos // A-Hakka, Whispe...</td>\n",
       "      <td>[U]</td>\n",
       "      <td>5.0</td>\n",
       "      <td>Alrund gets +1/+1 for each card in your hand a...</td>\n",
       "      <td>1</td>\n",
       "      <td>1</td>\n",
       "      <td>[Creature]</td>\n",
       "      <td>[God]</td>\n",
       "    </tr>\n",
       "  </tbody>\n",
       "</table>\n",
       "</div>"
      ],
      "text/plain": [
       "                                                name colors  manaValue  \\\n",
       "0                                            +2 Mace    [W]        2.0   \n",
       "1                                      A Little Chat    [U]        2.0   \n",
       "2                            A-Acererak the Archlich    [B]        3.0   \n",
       "3                                A-Alrund's Epiphany    [U]        7.0   \n",
       "4  A-Alrund, God of the Cosmos // A-Hakka, Whispe...    [U]        5.0   \n",
       "\n",
       "                                                text power toughness  \\\n",
       "0  Equipped creature gets +2/+2.\\nEquip {3} ({3}:...  None      None   \n",
       "1  Casualty 1 (As you cast this spell, you may sa...  None      None   \n",
       "2  When Acererak the Archlich enters the battlefi...     5         5   \n",
       "3  Take an extra turn after this one. If this spe...  None      None   \n",
       "4  Alrund gets +1/+1 for each card in your hand a...     1         1   \n",
       "\n",
       "        types          subtypes  \n",
       "0  [Artifact]       [Equipment]  \n",
       "1   [Instant]                []  \n",
       "2  [Creature]  [Zombie, Wizard]  \n",
       "3   [Sorcery]                []  \n",
       "4  [Creature]             [God]  "
      ]
     },
     "metadata": {},
     "output_type": "display_data"
    }
   ],
   "source": [
    "df_original.reset_index(inplace=True)\n",
    "df_original.rename(columns = {'index': 'name'}, inplace=True)\n",
    "display(df_original.head())"
   ]
  },
  {
   "cell_type": "markdown",
   "id": "2264e41f",
   "metadata": {},
   "source": [
    "Some data processing needs to be done here:\n"
   ]
  },
  {
   "cell_type": "markdown",
   "id": "42b5b7ba",
   "metadata": {},
   "source": [
    "### Handling NaN values"
   ]
  },
  {
   "cell_type": "code",
   "execution_count": 6,
   "id": "bdca1408",
   "metadata": {
    "scrolled": true
   },
   "outputs": [
    {
     "data": {
      "text/plain": [
       "name             0\n",
       "colors           0\n",
       "manaValue        0\n",
       "text           334\n",
       "power        10751\n",
       "toughness    10751\n",
       "types            0\n",
       "subtypes         0\n",
       "dtype: int64"
      ]
     },
     "execution_count": 6,
     "metadata": {},
     "output_type": "execute_result"
    }
   ],
   "source": [
    "df_original.isna().sum()"
   ]
  },
  {
   "cell_type": "markdown",
   "id": "0763f65c",
   "metadata": {},
   "source": [
    "#### text\n",
    "\n",
    "Some cards, usually creature cards, don't have any text associated with them. We will simply replace the NaN value with an empty string.\n",
    "\n",
    "#### power & toughness\n",
    "\n",
    "Non-creature cards typically do not have power or toughness. We will be using the value -1 to designate cards without power/toughness.\n"
   ]
  },
  {
   "cell_type": "code",
   "execution_count": 7,
   "id": "2f15d2cf",
   "metadata": {},
   "outputs": [
    {
     "data": {
      "text/html": [
       "<div>\n",
       "<style scoped>\n",
       "    .dataframe tbody tr th:only-of-type {\n",
       "        vertical-align: middle;\n",
       "    }\n",
       "\n",
       "    .dataframe tbody tr th {\n",
       "        vertical-align: top;\n",
       "    }\n",
       "\n",
       "    .dataframe thead th {\n",
       "        text-align: right;\n",
       "    }\n",
       "</style>\n",
       "<table border=\"1\" class=\"dataframe\">\n",
       "  <thead>\n",
       "    <tr style=\"text-align: right;\">\n",
       "      <th></th>\n",
       "      <th>name</th>\n",
       "      <th>colors</th>\n",
       "      <th>manaValue</th>\n",
       "      <th>text</th>\n",
       "      <th>power</th>\n",
       "      <th>toughness</th>\n",
       "      <th>types</th>\n",
       "      <th>subtypes</th>\n",
       "    </tr>\n",
       "  </thead>\n",
       "  <tbody>\n",
       "    <tr>\n",
       "      <th>0</th>\n",
       "      <td>+2 Mace</td>\n",
       "      <td>[W]</td>\n",
       "      <td>2.0</td>\n",
       "      <td>Equipped creature gets +2/+2.\\nEquip {3} ({3}:...</td>\n",
       "      <td>-1</td>\n",
       "      <td>-1</td>\n",
       "      <td>[Artifact]</td>\n",
       "      <td>[Equipment]</td>\n",
       "    </tr>\n",
       "    <tr>\n",
       "      <th>1</th>\n",
       "      <td>A Little Chat</td>\n",
       "      <td>[U]</td>\n",
       "      <td>2.0</td>\n",
       "      <td>Casualty 1 (As you cast this spell, you may sa...</td>\n",
       "      <td>-1</td>\n",
       "      <td>-1</td>\n",
       "      <td>[Instant]</td>\n",
       "      <td>[]</td>\n",
       "    </tr>\n",
       "    <tr>\n",
       "      <th>2</th>\n",
       "      <td>A-Acererak the Archlich</td>\n",
       "      <td>[B]</td>\n",
       "      <td>3.0</td>\n",
       "      <td>When Acererak the Archlich enters the battlefi...</td>\n",
       "      <td>5</td>\n",
       "      <td>5</td>\n",
       "      <td>[Creature]</td>\n",
       "      <td>[Zombie, Wizard]</td>\n",
       "    </tr>\n",
       "    <tr>\n",
       "      <th>3</th>\n",
       "      <td>A-Alrund's Epiphany</td>\n",
       "      <td>[U]</td>\n",
       "      <td>7.0</td>\n",
       "      <td>Take an extra turn after this one. If this spe...</td>\n",
       "      <td>-1</td>\n",
       "      <td>-1</td>\n",
       "      <td>[Sorcery]</td>\n",
       "      <td>[]</td>\n",
       "    </tr>\n",
       "    <tr>\n",
       "      <th>4</th>\n",
       "      <td>A-Alrund, God of the Cosmos // A-Hakka, Whispe...</td>\n",
       "      <td>[U]</td>\n",
       "      <td>5.0</td>\n",
       "      <td>Alrund gets +1/+1 for each card in your hand a...</td>\n",
       "      <td>1</td>\n",
       "      <td>1</td>\n",
       "      <td>[Creature]</td>\n",
       "      <td>[God]</td>\n",
       "    </tr>\n",
       "  </tbody>\n",
       "</table>\n",
       "</div>"
      ],
      "text/plain": [
       "                                                name colors  manaValue  \\\n",
       "0                                            +2 Mace    [W]        2.0   \n",
       "1                                      A Little Chat    [U]        2.0   \n",
       "2                            A-Acererak the Archlich    [B]        3.0   \n",
       "3                                A-Alrund's Epiphany    [U]        7.0   \n",
       "4  A-Alrund, God of the Cosmos // A-Hakka, Whispe...    [U]        5.0   \n",
       "\n",
       "                                                text power toughness  \\\n",
       "0  Equipped creature gets +2/+2.\\nEquip {3} ({3}:...    -1        -1   \n",
       "1  Casualty 1 (As you cast this spell, you may sa...    -1        -1   \n",
       "2  When Acererak the Archlich enters the battlefi...     5         5   \n",
       "3  Take an extra turn after this one. If this spe...    -1        -1   \n",
       "4  Alrund gets +1/+1 for each card in your hand a...     1         1   \n",
       "\n",
       "        types          subtypes  \n",
       "0  [Artifact]       [Equipment]  \n",
       "1   [Instant]                []  \n",
       "2  [Creature]  [Zombie, Wizard]  \n",
       "3   [Sorcery]                []  \n",
       "4  [Creature]             [God]  "
      ]
     },
     "execution_count": 7,
     "metadata": {},
     "output_type": "execute_result"
    }
   ],
   "source": [
    "# handling text\n",
    "df_original['text'] = df_original['text'].fillna('')\n",
    "\n",
    "# handling power & toughness\n",
    "df_original['power'] = df_original['power'].fillna(-1)\n",
    "df_original['toughness'] = df_original['toughness'].fillna(-1)\n",
    "\n",
    "df_original.head()"
   ]
  },
  {
   "cell_type": "code",
   "execution_count": 8,
   "id": "1d44295e",
   "metadata": {
    "scrolled": true
   },
   "outputs": [
    {
     "data": {
      "text/plain": [
       "name         0\n",
       "colors       0\n",
       "manaValue    0\n",
       "text         0\n",
       "power        0\n",
       "toughness    0\n",
       "types        0\n",
       "subtypes     0\n",
       "dtype: int64"
      ]
     },
     "execution_count": 8,
     "metadata": {},
     "output_type": "execute_result"
    }
   ],
   "source": [
    "df_original.isna().sum()"
   ]
  },
  {
   "cell_type": "markdown",
   "id": "3e2d3a83",
   "metadata": {},
   "source": [
    "The columns `colors`, `types` and `subtypes` are currently stored as lists, but ideally we don't want to work with lists when exploring/modelling our data later on. We will simply merge the lists into one string."
   ]
  },
  {
   "cell_type": "code",
   "execution_count": 9,
   "id": "b0a15ab8",
   "metadata": {
    "scrolled": true
   },
   "outputs": [
    {
     "data": {
      "text/html": [
       "<div>\n",
       "<style scoped>\n",
       "    .dataframe tbody tr th:only-of-type {\n",
       "        vertical-align: middle;\n",
       "    }\n",
       "\n",
       "    .dataframe tbody tr th {\n",
       "        vertical-align: top;\n",
       "    }\n",
       "\n",
       "    .dataframe thead th {\n",
       "        text-align: right;\n",
       "    }\n",
       "</style>\n",
       "<table border=\"1\" class=\"dataframe\">\n",
       "  <thead>\n",
       "    <tr style=\"text-align: right;\">\n",
       "      <th></th>\n",
       "      <th>name</th>\n",
       "      <th>colors</th>\n",
       "      <th>manaValue</th>\n",
       "      <th>text</th>\n",
       "      <th>power</th>\n",
       "      <th>toughness</th>\n",
       "      <th>types</th>\n",
       "      <th>subtypes</th>\n",
       "    </tr>\n",
       "  </thead>\n",
       "  <tbody>\n",
       "    <tr>\n",
       "      <th>0</th>\n",
       "      <td>+2 Mace</td>\n",
       "      <td>W</td>\n",
       "      <td>2.0</td>\n",
       "      <td>Equipped creature gets +2/+2.\\nEquip {3} ({3}:...</td>\n",
       "      <td>-1</td>\n",
       "      <td>-1</td>\n",
       "      <td>Artifact</td>\n",
       "      <td>Equipment</td>\n",
       "    </tr>\n",
       "    <tr>\n",
       "      <th>1</th>\n",
       "      <td>A Little Chat</td>\n",
       "      <td>U</td>\n",
       "      <td>2.0</td>\n",
       "      <td>Casualty 1 (As you cast this spell, you may sa...</td>\n",
       "      <td>-1</td>\n",
       "      <td>-1</td>\n",
       "      <td>Instant</td>\n",
       "      <td></td>\n",
       "    </tr>\n",
       "    <tr>\n",
       "      <th>2</th>\n",
       "      <td>A-Acererak the Archlich</td>\n",
       "      <td>B</td>\n",
       "      <td>3.0</td>\n",
       "      <td>When Acererak the Archlich enters the battlefi...</td>\n",
       "      <td>5</td>\n",
       "      <td>5</td>\n",
       "      <td>Creature</td>\n",
       "      <td>Wizard Zombie</td>\n",
       "    </tr>\n",
       "    <tr>\n",
       "      <th>3</th>\n",
       "      <td>A-Alrund's Epiphany</td>\n",
       "      <td>U</td>\n",
       "      <td>7.0</td>\n",
       "      <td>Take an extra turn after this one. If this spe...</td>\n",
       "      <td>-1</td>\n",
       "      <td>-1</td>\n",
       "      <td>Sorcery</td>\n",
       "      <td></td>\n",
       "    </tr>\n",
       "    <tr>\n",
       "      <th>4</th>\n",
       "      <td>A-Alrund, God of the Cosmos // A-Hakka, Whispe...</td>\n",
       "      <td>U</td>\n",
       "      <td>5.0</td>\n",
       "      <td>Alrund gets +1/+1 for each card in your hand a...</td>\n",
       "      <td>1</td>\n",
       "      <td>1</td>\n",
       "      <td>Creature</td>\n",
       "      <td>God</td>\n",
       "    </tr>\n",
       "  </tbody>\n",
       "</table>\n",
       "</div>"
      ],
      "text/plain": [
       "                                                name colors  manaValue  \\\n",
       "0                                            +2 Mace      W        2.0   \n",
       "1                                      A Little Chat      U        2.0   \n",
       "2                            A-Acererak the Archlich      B        3.0   \n",
       "3                                A-Alrund's Epiphany      U        7.0   \n",
       "4  A-Alrund, God of the Cosmos // A-Hakka, Whispe...      U        5.0   \n",
       "\n",
       "                                                text power toughness  \\\n",
       "0  Equipped creature gets +2/+2.\\nEquip {3} ({3}:...    -1        -1   \n",
       "1  Casualty 1 (As you cast this spell, you may sa...    -1        -1   \n",
       "2  When Acererak the Archlich enters the battlefi...     5         5   \n",
       "3  Take an extra turn after this one. If this spe...    -1        -1   \n",
       "4  Alrund gets +1/+1 for each card in your hand a...     1         1   \n",
       "\n",
       "      types       subtypes  \n",
       "0  Artifact      Equipment  \n",
       "1   Instant                 \n",
       "2  Creature  Wizard Zombie  \n",
       "3   Sorcery                 \n",
       "4  Creature            God  "
      ]
     },
     "execution_count": 9,
     "metadata": {},
     "output_type": "execute_result"
    }
   ],
   "source": [
    "df_original['colors'] = df_original['colors'].apply(lambda x: ''.join(sorted(x)))\n",
    "df_original['types'] = df_original['types'].apply(lambda x: ' '.join(sorted(x)))\n",
    "df_original['subtypes'] = df_original['subtypes'].apply(lambda x: ' '.join(sorted(x)))\n",
    "\n",
    "df_original.head()"
   ]
  },
  {
   "cell_type": "markdown",
   "id": "a4cdf4b6",
   "metadata": {},
   "source": [
    "For reasons we will explain further below, it will be helpful for us to temporarily treat the `power` and `toughness` columns as a string. We will convert them back to numbers later on."
   ]
  },
  {
   "cell_type": "code",
   "execution_count": 10,
   "id": "0011dd3f",
   "metadata": {},
   "outputs": [],
   "source": [
    "df_original['power'] = df_original['power'].astype(str)\n",
    "df_original['toughness'] = df_original['toughness'].astype(str)"
   ]
  },
  {
   "cell_type": "markdown",
   "id": "de6d54a7",
   "metadata": {},
   "source": [
    "## EDA"
   ]
  },
  {
   "cell_type": "markdown",
   "id": "44b97aa7",
   "metadata": {},
   "source": [
    "### `colors` distribution\n",
    "\n",
    "First we will be looking at the distribution of our target class:"
   ]
  },
  {
   "cell_type": "code",
   "execution_count": 23,
   "id": "51ffb0c8",
   "metadata": {},
   "outputs": [
    {
     "data": {
      "image/png": "[encoded data removed]",
      "text/plain": [
       "<Figure size 1080x720 with 1 Axes>"
      ]
     },
     "metadata": {
      "needs_background": "light"
     },
     "output_type": "display_data"
    }
   ],
   "source": [
    "# Check for color distribution\n",
    "\n",
    "plot_distribution(df_original,\"colors\",figsize=(15,10),title='Distribution of Colors')"
   ]
  },
  {
   "cell_type": "markdown",
   "id": "7df91361",
   "metadata": {},
   "source": [
    "We will end up with 7 classes: 5 representing the base colors (G,U,R,B,W), one for colorless cards, and one for multicolored cards.\n",
    "\n",
    "0. Colorless,\n",
    "1. Green,\n",
    "2. Blue,\n",
    "3. Red,\n",
    "4. Black,\n",
    "5. White,\n",
    "6. Multicolored"
   ]
  },
  {
   "cell_type": "markdown",
   "id": "9ce7f14c",
   "metadata": {},
   "source": [
    "### `types` distribution"
   ]
  },
  {
   "cell_type": "code",
   "execution_count": 24,
   "id": "b24f417f",
   "metadata": {
    "scrolled": false
   },
   "outputs": [
    {
     "data": {
      "image/png": "[encoded data removed]",
      "text/plain": [
       "<Figure size 360x360 with 1 Axes>"
      ]
     },
     "metadata": {
      "needs_background": "light"
     },
     "output_type": "display_data"
    }
   ],
   "source": [
    "plot_distribution(df_original,'types')"
   ]
  },
  {
   "cell_type": "markdown",
   "id": "bcd82435",
   "metadata": {},
   "source": [
    "### `power` and `toughness` distribution"
   ]
  },
  {
   "cell_type": "code",
   "execution_count": 34,
   "id": "60569d12",
   "metadata": {},
   "outputs": [
    {
     "data": {
      "image/png": "[encoded data removed]",
      "text/plain": [
       "<Figure size 360x360 with 1 Axes>"
      ]
     },
     "metadata": {
      "needs_background": "light"
     },
     "output_type": "display_data"
    },
    {
     "data": {
      "image/png": "[encoded data removed]",
      "text/plain": [
       "<Figure size 360x360 with 1 Axes>"
      ]
     },
     "metadata": {
      "needs_background": "light"
     },
     "output_type": "display_data"
    }
   ],
   "source": [
    "plot_distribution(df_original,'power')\n",
    "plot_distribution(df_original,'toughness')"
   ]
  },
  {
   "cell_type": "markdown",
   "id": "d7981422",
   "metadata": {},
   "source": [
    "For some cards, there is an asterisk symbol in the power and toughness areas (see cards like Tarmogoyf). To prepare our data for the model, we will be substituting any card containing an asterisk with the manavalue of the card.\n",
    "\n",
    "The reasoning behind doing this is from my domain knowledge the power (and toughness) of MTG cards is roughly connected to the manavalue of a card."
   ]
  },
  {
   "cell_type": "markdown",
   "id": "b77a1863",
   "metadata": {},
   "source": [
    "## Feature Engineering\n",
    "\n",
    "- Reducing our dependant, `colors`, to 7 classes as described above.\n",
    "- Removing asterisks from our `power` and `toughness` columns."
   ]
  },
  {
   "cell_type": "code",
   "execution_count": 26,
   "id": "7f27c051",
   "metadata": {
    "scrolled": true
   },
   "outputs": [
    {
     "data": {
      "text/html": [
       "<div>\n",
       "<style scoped>\n",
       "    .dataframe tbody tr th:only-of-type {\n",
       "        vertical-align: middle;\n",
       "    }\n",
       "\n",
       "    .dataframe tbody tr th {\n",
       "        vertical-align: top;\n",
       "    }\n",
       "\n",
       "    .dataframe thead th {\n",
       "        text-align: right;\n",
       "    }\n",
       "</style>\n",
       "<table border=\"1\" class=\"dataframe\">\n",
       "  <thead>\n",
       "    <tr style=\"text-align: right;\">\n",
       "      <th></th>\n",
       "      <th>colors</th>\n",
       "      <th>manaValue</th>\n",
       "      <th>power</th>\n",
       "      <th>toughness</th>\n",
       "      <th>types</th>\n",
       "      <th>subtypes</th>\n",
       "      <th>name_text</th>\n",
       "    </tr>\n",
       "    <tr>\n",
       "      <th>name</th>\n",
       "      <th></th>\n",
       "      <th></th>\n",
       "      <th></th>\n",
       "      <th></th>\n",
       "      <th></th>\n",
       "      <th></th>\n",
       "      <th></th>\n",
       "    </tr>\n",
       "  </thead>\n",
       "  <tbody>\n",
       "    <tr>\n",
       "      <th>+2 Mace</th>\n",
       "      <td>W</td>\n",
       "      <td>2.0</td>\n",
       "      <td>-1</td>\n",
       "      <td>-1</td>\n",
       "      <td>Artifact</td>\n",
       "      <td>Equipment</td>\n",
       "      <td>+2 Mace Equipped creature gets +2/+2. Equip {3...</td>\n",
       "    </tr>\n",
       "    <tr>\n",
       "      <th>A Little Chat</th>\n",
       "      <td>U</td>\n",
       "      <td>2.0</td>\n",
       "      <td>-1</td>\n",
       "      <td>-1</td>\n",
       "      <td>Instant</td>\n",
       "      <td></td>\n",
       "      <td>A Little Chat Casualty 1 (As you cast this spe...</td>\n",
       "    </tr>\n",
       "    <tr>\n",
       "      <th>A-Acererak the Archlich</th>\n",
       "      <td>B</td>\n",
       "      <td>3.0</td>\n",
       "      <td>5</td>\n",
       "      <td>5</td>\n",
       "      <td>Creature</td>\n",
       "      <td>Wizard Zombie</td>\n",
       "      <td>A-Acererak the Archlich When Acererak the Arch...</td>\n",
       "    </tr>\n",
       "    <tr>\n",
       "      <th>A-Alrund's Epiphany</th>\n",
       "      <td>U</td>\n",
       "      <td>7.0</td>\n",
       "      <td>-1</td>\n",
       "      <td>-1</td>\n",
       "      <td>Sorcery</td>\n",
       "      <td></td>\n",
       "      <td>A-Alrund's Epiphany Take an extra turn after t...</td>\n",
       "    </tr>\n",
       "    <tr>\n",
       "      <th>A-Alrund, God of the Cosmos // A-Hakka, Whispering Raven</th>\n",
       "      <td>U</td>\n",
       "      <td>5.0</td>\n",
       "      <td>1</td>\n",
       "      <td>1</td>\n",
       "      <td>Creature</td>\n",
       "      <td>God</td>\n",
       "      <td>A-Alrund, God of the Cosmos // A-Hakka, Whispe...</td>\n",
       "    </tr>\n",
       "  </tbody>\n",
       "</table>\n",
       "</div>"
      ],
      "text/plain": [
       "                                                   colors  manaValue power  \\\n",
       "name                                                                         \n",
       "+2 Mace                                                 W        2.0    -1   \n",
       "A Little Chat                                           U        2.0    -1   \n",
       "A-Acererak the Archlich                                 B        3.0     5   \n",
       "A-Alrund's Epiphany                                     U        7.0    -1   \n",
       "A-Alrund, God of the Cosmos // A-Hakka, Whisper...      U        5.0     1   \n",
       "\n",
       "                                                   toughness     types  \\\n",
       "name                                                                     \n",
       "+2 Mace                                                   -1  Artifact   \n",
       "A Little Chat                                             -1   Instant   \n",
       "A-Acererak the Archlich                                    5  Creature   \n",
       "A-Alrund's Epiphany                                       -1   Sorcery   \n",
       "A-Alrund, God of the Cosmos // A-Hakka, Whisper...         1  Creature   \n",
       "\n",
       "                                                         subtypes  \\\n",
       "name                                                                \n",
       "+2 Mace                                                 Equipment   \n",
       "A Little Chat                                                       \n",
       "A-Acererak the Archlich                             Wizard Zombie   \n",
       "A-Alrund's Epiphany                                                 \n",
       "A-Alrund, God of the Cosmos // A-Hakka, Whisper...            God   \n",
       "\n",
       "                                                                                            name_text  \n",
       "name                                                                                                   \n",
       "+2 Mace                                             +2 Mace Equipped creature gets +2/+2. Equip {3...  \n",
       "A Little Chat                                       A Little Chat Casualty 1 (As you cast this spe...  \n",
       "A-Acererak the Archlich                             A-Acererak the Archlich When Acererak the Arch...  \n",
       "A-Alrund's Epiphany                                 A-Alrund's Epiphany Take an extra turn after t...  \n",
       "A-Alrund, God of the Cosmos // A-Hakka, Whisper...  A-Alrund, God of the Cosmos // A-Hakka, Whispe...  "
      ]
     },
     "execution_count": 26,
     "metadata": {},
     "output_type": "execute_result"
    }
   ],
   "source": [
    "df_modified = df_original.copy()\n",
    "\n",
    "df_modified['name_text'] = df_modified['name'] + ' ' + df_modified['text']\n",
    "df_modified['name_text'] = df_modified['name_text'].apply(lambda x: x.replace('\\n',' ')) \n",
    "\n",
    "df_modified['power'] = df_modified['power'].astype(str)\n",
    "df_modified['toughness'] = df_modified['toughness'].astype(str)\n",
    "\n",
    "df_modified.drop(columns=['text'], inplace=True)\n",
    "df_modified.set_index('name', inplace=True)\n",
    "\n",
    "df_modified.head()"
   ]
  },
  {
   "cell_type": "code",
   "execution_count": 27,
   "id": "13bc1628",
   "metadata": {
    "scrolled": true
   },
   "outputs": [],
   "source": [
    "df_modified.loc[df_modified['power'].str.contains('\\*'), 'power'] = df_modified[df_modified['power'].str.contains('\\*')]['manaValue'].astype(int)\n",
    "\n",
    "df_modified.loc[df_modified['toughness'].str.contains('\\*'), 'toughness'] = df_modified[df_modified['toughness'].str.contains('\\*')]['manaValue'].astype(int)\n"
   ]
  },
  {
   "cell_type": "code",
   "execution_count": 28,
   "id": "56d1faba",
   "metadata": {},
   "outputs": [
    {
     "data": {
      "text/html": [
       "<div>\n",
       "<style scoped>\n",
       "    .dataframe tbody tr th:only-of-type {\n",
       "        vertical-align: middle;\n",
       "    }\n",
       "\n",
       "    .dataframe tbody tr th {\n",
       "        vertical-align: top;\n",
       "    }\n",
       "\n",
       "    .dataframe thead th {\n",
       "        text-align: right;\n",
       "    }\n",
       "</style>\n",
       "<table border=\"1\" class=\"dataframe\">\n",
       "  <thead>\n",
       "    <tr style=\"text-align: right;\">\n",
       "      <th></th>\n",
       "      <th>colors</th>\n",
       "      <th>manaValue</th>\n",
       "      <th>power</th>\n",
       "      <th>toughness</th>\n",
       "      <th>types</th>\n",
       "      <th>subtypes</th>\n",
       "      <th>name_text</th>\n",
       "    </tr>\n",
       "    <tr>\n",
       "      <th>name</th>\n",
       "      <th></th>\n",
       "      <th></th>\n",
       "      <th></th>\n",
       "      <th></th>\n",
       "      <th></th>\n",
       "      <th></th>\n",
       "      <th></th>\n",
       "    </tr>\n",
       "  </thead>\n",
       "  <tbody>\n",
       "    <tr>\n",
       "      <th>+2 Mace</th>\n",
       "      <td>W</td>\n",
       "      <td>2.0</td>\n",
       "      <td>-1</td>\n",
       "      <td>-1</td>\n",
       "      <td>Artifact</td>\n",
       "      <td>Equipment</td>\n",
       "      <td>+2 Mace Equipped creature gets +2/+2. Equip {3...</td>\n",
       "    </tr>\n",
       "    <tr>\n",
       "      <th>A Little Chat</th>\n",
       "      <td>U</td>\n",
       "      <td>2.0</td>\n",
       "      <td>-1</td>\n",
       "      <td>-1</td>\n",
       "      <td>Instant</td>\n",
       "      <td></td>\n",
       "      <td>A Little Chat Casualty 1 (As you cast this spe...</td>\n",
       "    </tr>\n",
       "    <tr>\n",
       "      <th>A-Acererak the Archlich</th>\n",
       "      <td>B</td>\n",
       "      <td>3.0</td>\n",
       "      <td>5</td>\n",
       "      <td>5</td>\n",
       "      <td>Creature</td>\n",
       "      <td>Wizard Zombie</td>\n",
       "      <td>A-Acererak the Archlich When Acererak the Arch...</td>\n",
       "    </tr>\n",
       "    <tr>\n",
       "      <th>A-Alrund's Epiphany</th>\n",
       "      <td>U</td>\n",
       "      <td>7.0</td>\n",
       "      <td>-1</td>\n",
       "      <td>-1</td>\n",
       "      <td>Sorcery</td>\n",
       "      <td></td>\n",
       "      <td>A-Alrund's Epiphany Take an extra turn after t...</td>\n",
       "    </tr>\n",
       "    <tr>\n",
       "      <th>A-Alrund, God of the Cosmos // A-Hakka, Whispering Raven</th>\n",
       "      <td>U</td>\n",
       "      <td>5.0</td>\n",
       "      <td>1</td>\n",
       "      <td>1</td>\n",
       "      <td>Creature</td>\n",
       "      <td>God</td>\n",
       "      <td>A-Alrund, God of the Cosmos // A-Hakka, Whispe...</td>\n",
       "    </tr>\n",
       "  </tbody>\n",
       "</table>\n",
       "</div>"
      ],
      "text/plain": [
       "                                                   colors  manaValue  power  \\\n",
       "name                                                                          \n",
       "+2 Mace                                                 W        2.0     -1   \n",
       "A Little Chat                                           U        2.0     -1   \n",
       "A-Acererak the Archlich                                 B        3.0      5   \n",
       "A-Alrund's Epiphany                                     U        7.0     -1   \n",
       "A-Alrund, God of the Cosmos // A-Hakka, Whisper...      U        5.0      1   \n",
       "\n",
       "                                                    toughness     types  \\\n",
       "name                                                                      \n",
       "+2 Mace                                                    -1  Artifact   \n",
       "A Little Chat                                              -1   Instant   \n",
       "A-Acererak the Archlich                                     5  Creature   \n",
       "A-Alrund's Epiphany                                        -1   Sorcery   \n",
       "A-Alrund, God of the Cosmos // A-Hakka, Whisper...          1  Creature   \n",
       "\n",
       "                                                         subtypes  \\\n",
       "name                                                                \n",
       "+2 Mace                                                 Equipment   \n",
       "A Little Chat                                                       \n",
       "A-Acererak the Archlich                             Wizard Zombie   \n",
       "A-Alrund's Epiphany                                                 \n",
       "A-Alrund, God of the Cosmos // A-Hakka, Whisper...            God   \n",
       "\n",
       "                                                                                            name_text  \n",
       "name                                                                                                   \n",
       "+2 Mace                                             +2 Mace Equipped creature gets +2/+2. Equip {3...  \n",
       "A Little Chat                                       A Little Chat Casualty 1 (As you cast this spe...  \n",
       "A-Acererak the Archlich                             A-Acererak the Archlich When Acererak the Arch...  \n",
       "A-Alrund's Epiphany                                 A-Alrund's Epiphany Take an extra turn after t...  \n",
       "A-Alrund, God of the Cosmos // A-Hakka, Whisper...  A-Alrund, God of the Cosmos // A-Hakka, Whispe...  "
      ]
     },
     "execution_count": 28,
     "metadata": {},
     "output_type": "execute_result"
    }
   ],
   "source": [
    "df_modified['power'] = df_modified['power'].astype(int)\n",
    "df_modified['toughness'] = df_modified['toughness'].astype(int)\n",
    "\n",
    "df_modified.head()"
   ]
  },
  {
   "cell_type": "code",
   "execution_count": 29,
   "id": "d39042bf",
   "metadata": {},
   "outputs": [
    {
     "data": {
      "text/html": [
       "<div>\n",
       "<style scoped>\n",
       "    .dataframe tbody tr th:only-of-type {\n",
       "        vertical-align: middle;\n",
       "    }\n",
       "\n",
       "    .dataframe tbody tr th {\n",
       "        vertical-align: top;\n",
       "    }\n",
       "\n",
       "    .dataframe thead th {\n",
       "        text-align: right;\n",
       "    }\n",
       "</style>\n",
       "<table border=\"1\" class=\"dataframe\">\n",
       "  <thead>\n",
       "    <tr style=\"text-align: right;\">\n",
       "      <th></th>\n",
       "      <th>colors</th>\n",
       "      <th>manaValue</th>\n",
       "      <th>power</th>\n",
       "      <th>toughness</th>\n",
       "      <th>types</th>\n",
       "      <th>subtypes</th>\n",
       "      <th>name_text</th>\n",
       "    </tr>\n",
       "    <tr>\n",
       "      <th>name</th>\n",
       "      <th></th>\n",
       "      <th></th>\n",
       "      <th></th>\n",
       "      <th></th>\n",
       "      <th></th>\n",
       "      <th></th>\n",
       "      <th></th>\n",
       "    </tr>\n",
       "  </thead>\n",
       "  <tbody>\n",
       "    <tr>\n",
       "      <th>+2 Mace</th>\n",
       "      <td>5</td>\n",
       "      <td>2.0</td>\n",
       "      <td>-1</td>\n",
       "      <td>-1</td>\n",
       "      <td>Artifact</td>\n",
       "      <td>Equipment</td>\n",
       "      <td>+2 Mace Equipped creature gets +2/+2. Equip {3...</td>\n",
       "    </tr>\n",
       "    <tr>\n",
       "      <th>A Little Chat</th>\n",
       "      <td>2</td>\n",
       "      <td>2.0</td>\n",
       "      <td>-1</td>\n",
       "      <td>-1</td>\n",
       "      <td>Instant</td>\n",
       "      <td></td>\n",
       "      <td>A Little Chat Casualty 1 (As you cast this spe...</td>\n",
       "    </tr>\n",
       "    <tr>\n",
       "      <th>A-Acererak the Archlich</th>\n",
       "      <td>4</td>\n",
       "      <td>3.0</td>\n",
       "      <td>5</td>\n",
       "      <td>5</td>\n",
       "      <td>Creature</td>\n",
       "      <td>Wizard Zombie</td>\n",
       "      <td>A-Acererak the Archlich When Acererak the Arch...</td>\n",
       "    </tr>\n",
       "    <tr>\n",
       "      <th>A-Alrund's Epiphany</th>\n",
       "      <td>2</td>\n",
       "      <td>7.0</td>\n",
       "      <td>-1</td>\n",
       "      <td>-1</td>\n",
       "      <td>Sorcery</td>\n",
       "      <td></td>\n",
       "      <td>A-Alrund's Epiphany Take an extra turn after t...</td>\n",
       "    </tr>\n",
       "    <tr>\n",
       "      <th>A-Alrund, God of the Cosmos // A-Hakka, Whispering Raven</th>\n",
       "      <td>2</td>\n",
       "      <td>5.0</td>\n",
       "      <td>1</td>\n",
       "      <td>1</td>\n",
       "      <td>Creature</td>\n",
       "      <td>God</td>\n",
       "      <td>A-Alrund, God of the Cosmos // A-Hakka, Whispe...</td>\n",
       "    </tr>\n",
       "  </tbody>\n",
       "</table>\n",
       "</div>"
      ],
      "text/plain": [
       "                                                    colors  manaValue  power  \\\n",
       "name                                                                           \n",
       "+2 Mace                                                  5        2.0     -1   \n",
       "A Little Chat                                            2        2.0     -1   \n",
       "A-Acererak the Archlich                                  4        3.0      5   \n",
       "A-Alrund's Epiphany                                      2        7.0     -1   \n",
       "A-Alrund, God of the Cosmos // A-Hakka, Whisper...       2        5.0      1   \n",
       "\n",
       "                                                    toughness     types  \\\n",
       "name                                                                      \n",
       "+2 Mace                                                    -1  Artifact   \n",
       "A Little Chat                                              -1   Instant   \n",
       "A-Acererak the Archlich                                     5  Creature   \n",
       "A-Alrund's Epiphany                                        -1   Sorcery   \n",
       "A-Alrund, God of the Cosmos // A-Hakka, Whisper...          1  Creature   \n",
       "\n",
       "                                                         subtypes  \\\n",
       "name                                                                \n",
       "+2 Mace                                                 Equipment   \n",
       "A Little Chat                                                       \n",
       "A-Acererak the Archlich                             Wizard Zombie   \n",
       "A-Alrund's Epiphany                                                 \n",
       "A-Alrund, God of the Cosmos // A-Hakka, Whisper...            God   \n",
       "\n",
       "                                                                                            name_text  \n",
       "name                                                                                                   \n",
       "+2 Mace                                             +2 Mace Equipped creature gets +2/+2. Equip {3...  \n",
       "A Little Chat                                       A Little Chat Casualty 1 (As you cast this spe...  \n",
       "A-Acererak the Archlich                             A-Acererak the Archlich When Acererak the Arch...  \n",
       "A-Alrund's Epiphany                                 A-Alrund's Epiphany Take an extra turn after t...  \n",
       "A-Alrund, God of the Cosmos // A-Hakka, Whisper...  A-Alrund, God of the Cosmos // A-Hakka, Whispe...  "
      ]
     },
     "execution_count": 29,
     "metadata": {},
     "output_type": "execute_result"
    }
   ],
   "source": [
    "color_map = {'': 0, 'G': 1, 'U': 2, 'R': 3, 'B': 4, 'W': 5}\n",
    "    \n",
    "df_modified['colors'] = df_modified['colors'].apply(lambda x: color_map.get(x, 6))\n",
    "\n",
    "df_modified.head()"
   ]
  },
  {
   "cell_type": "code",
   "execution_count": 30,
   "id": "819b90be",
   "metadata": {
    "scrolled": true
   },
   "outputs": [
    {
     "data": {
      "image/png": "[encoded data removed]",
      "text/plain": [
       "<Figure size 432x288 with 1 Axes>"
      ]
     },
     "metadata": {
      "needs_background": "light"
     },
     "output_type": "display_data"
    }
   ],
   "source": [
    "# Check for new color distribution\n",
    "\n",
    "color_dist = df_original['colors'].value_counts()\n",
    "\n",
    "plt.figure()\n",
    "plt.barh(color_dist.index,color_dist.values)\n",
    "plt.show()"
   ]
  },
  {
   "cell_type": "markdown",
   "id": "8c61a87e",
   "metadata": {},
   "source": [
    "### Most Common Words from each Category\n",
    "\n",
    "We will be applying NLP "
   ]
  },
  {
   "cell_type": "code",
   "execution_count": 31,
   "id": "a219a9f3",
   "metadata": {},
   "outputs": [],
   "source": [
    "# 1. Instantiate \n",
    "bagofwords = CountVectorizer(stop_words='english',\n",
    "                             ngram_range=(1, 5)\n",
    "                             ,min_df=5, token_pattern=r\"(?u)\\b\\w\\w+\\b|\\+1/\\+1|\\-1/\\-1\")\n",
    "\n",
    "# 2. Fit \n",
    "bagofwords.fit(df_modified['name_text'])\n",
    "\n",
    "# 3. Transformed\n",
    "all_cards_counts = bagofwords.transform(df_modified['name_text'])\n"
   ]
  },
  {
   "cell_type": "code",
   "execution_count": 32,
   "id": "86f633f9",
   "metadata": {},
   "outputs": [
    {
     "data": {
      "image/png": "[encoded data removed]",
      "text/plain": [
       "<Figure size 1080x360 with 1 Axes>"
      ]
     },
     "metadata": {
      "needs_background": "light"
     },
     "output_type": "display_data"
    }
   ],
   "source": [
    "wc_df = pd.DataFrame(\n",
    "        {\"counts\": all_cards_counts.toarray().sum(axis=0)},\n",
    "        index=bagofwords.get_feature_names()\n",
    "    ).sort_values(\"counts\", ascending=False)\n",
    "\n",
    "wc_df.head(20).plot(kind=\"bar\", figsize=(15, 5), legend=False)\n",
    "plt.title(f\"Top 20 most frequently occurring words amongst all cards\")\n",
    "plt.ylabel(\"Count\")\n",
    "plt.xticks(rotation=45)\n",
    "plt.show()"
   ]
  },
  {
   "cell_type": "markdown",
   "id": "8c0d2008",
   "metadata": {},
   "source": [
    "Based on my own domain of MTG, and as you can see above, there are certain words that can easily appear across all cards with high frequency (creature, target, battlefield, etc.) that have little influence on the color identity of the card."
   ]
  },
  {
   "cell_type": "code",
   "execution_count": null,
   "id": "6a3c32ef",
   "metadata": {},
   "outputs": [],
   "source": [
    "f = open(\"data/mtg_stopwords.txt\",\"r\")\n",
    "mtg_stopwords = f.read().splitlines()\n",
    "\n",
    "custom_stop_words = ENGLISH_STOP_WORDS.union(mtg_stopwords)"
   ]
  },
  {
   "cell_type": "code",
   "execution_count": null,
   "id": "cc39e416",
   "metadata": {},
   "outputs": [],
   "source": [
    "# 1. Instantiate \n",
    "bagofwords = CountVectorizer(stop_words=custom_stop_words,\n",
    "                             ngram_range=(1, 5),\n",
    "                             min_df=5,\n",
    "                             token_pattern=r\"(?u)\\b\\w\\w+\\b|\\+1/\\+1|\\-1/\\-1\")\n",
    "\n",
    "# 2. Fit \n",
    "bagofwords.fit(df_modified['name_text'])\n",
    "\n",
    "# 3. Transform\n",
    "\n",
    "word_counts = []\n",
    "\n",
    "for c in range(7):\n",
    "    transformed = bagofwords.transform(df_modified[df_modified['colors'] == c]['name_text'])\n",
    "    word_counts.append(transformed)"
   ]
  },
  {
   "cell_type": "code",
   "execution_count": null,
   "id": "7163d75d",
   "metadata": {
    "scrolled": false
   },
   "outputs": [],
   "source": [
    "target_classes = ['Colorless','Green','Blue','Red','Black','White','Multicolored']\n",
    "color_codes = ['brown','green','skyblue','red','black','lightgray','gold']\n",
    "\n",
    "frequency_dfs = []\n",
    "\n",
    "for c in range(7):\n",
    "    \n",
    "    wc_df = pd.DataFrame(\n",
    "        {\"counts\": word_counts[c].toarray().sum(axis=0)},\n",
    "        index=bagofwords.get_feature_names()\n",
    "    ).sort_values(\"counts\", ascending=False)\n",
    "\n",
    "    wc_df.head(20).plot(kind=\"bar\", figsize=(15, 5), legend=False, color=color_codes[c] )\n",
    "    plt.title(f\"Top 20 most frequently occurring words amongst {target_classes[c]} cards\")\n",
    "    plt.ylabel(\"Count\")\n",
    "    plt.xticks(rotation=45)\n",
    "    plt.savefig(f'visualizations/{target_classes[c]}_frequent_words.png', bbox_inches='tight', dpi=300)\n",
    "    plt.show()\n",
    "    \n",
    "    frequency_dfs.append(wc_df)"
   ]
  },
  {
   "cell_type": "markdown",
   "id": "5d686144",
   "metadata": {},
   "source": [
    "For better visualization, I will be using the WordCloud library:"
   ]
  },
  {
   "cell_type": "code",
   "execution_count": null,
   "id": "ac033e48",
   "metadata": {
    "scrolled": false
   },
   "outputs": [],
   "source": [
    "\n",
    "for i in range(7):\n",
    "\n",
    "    data = dict(zip(frequency_dfs[i].index.tolist(), frequency_dfs[i]['counts'].tolist()))\n",
    "    \n",
    "    wc = WordCloud(width=1500, height=500, max_words=100, max_font_size=100, \n",
    "                   background_color='white').generate_from_frequencies(data)\n",
    " \n",
    "    # generate color function\n",
    "    color_func = get_single_color_func(color_codes[i])\n",
    "\n",
    "    # plot the WordCloud image                      \n",
    "    plt.figure(figsize=(15,5))\n",
    "    plt.imshow(wc.recolor(color_func=color_func))\n",
    "    plt.axis(\"off\")\n",
    "    \n",
    "    plt.tight_layout(pad = 0)\n",
    "\n",
    "    plt.show()\n",
    "    \n",
    "    wc.to_file(f'visualizations/{target_classes[i]}_wordcloud.png')"
   ]
  },
  {
   "cell_type": "markdown",
   "id": "dedad3a8",
   "metadata": {},
   "source": [
    "## Preparing For Modeling"
   ]
  },
  {
   "cell_type": "code",
   "execution_count": null,
   "id": "b7297f42",
   "metadata": {},
   "outputs": [],
   "source": [
    "X = df_modified.drop(columns='colors')\n",
    "y = df_modified['colors']"
   ]
  },
  {
   "cell_type": "code",
   "execution_count": null,
   "id": "3cdb688e",
   "metadata": {
    "scrolled": false
   },
   "outputs": [],
   "source": [
    "# Dummify the types + subtypes column\n",
    "\n",
    "X = pd.get_dummies(X,columns=['types'])\n",
    "X = pd.get_dummies(X,columns=['subtypes'])\n"
   ]
  },
  {
   "cell_type": "markdown",
   "id": "085963e2",
   "metadata": {},
   "source": [
    "It's import we split the data into the test-train split at this juncture, before vectorizing our data. The reason for this is we should not be exposing our model to our test set."
   ]
  },
  {
   "cell_type": "code",
   "execution_count": null,
   "id": "a6e37676",
   "metadata": {},
   "outputs": [],
   "source": [
    "X_train, X_test, y_train, y_test = train_test_split(X, y, test_size=0.3, random_state=1337)"
   ]
  },
  {
   "cell_type": "code",
   "execution_count": null,
   "id": "76588aa2",
   "metadata": {
    "scrolled": true
   },
   "outputs": [],
   "source": [
    "# 1. Instantiate \n",
    "bagofwords = CountVectorizer(stop_words=custom_stop_words\n",
    "                             ,ngram_range=(1, 5)\n",
    "                             ,min_df=5\n",
    "                             ,token_pattern=r\"(?u)\\b\\w\\w+\\b|\\+1/\\+1|\\-1/\\-1\")\n",
    "\n",
    "# 2. Fit \n",
    "bagofwords.fit(X_train['name_text'])\n",
    "\n",
    "# 3. Transform\n",
    "\n",
    "name_text_transformed = bagofwords.transform(X_train['name_text'])\n",
    "\n",
    "column_names = [('text_' + x) for x in bagofwords.get_feature_names()]\n",
    "\n",
    "sparse_df = pd.DataFrame.sparse.from_spmatrix(name_text_transformed, columns=column_names, )\n",
    "sparse_df['name'] = X_train.index\n",
    "sparse_df.set_index('name', inplace=True)"
   ]
  },
  {
   "cell_type": "code",
   "execution_count": null,
   "id": "6a6ac98d",
   "metadata": {},
   "outputs": [],
   "source": [
    "\n",
    "X_train_vectorized = pd.concat([X_train, sparse_df], axis=1)\n",
    "X_train_vectorized.drop(columns='name_text',inplace=True)\n",
    "\n",
    "X_train_vectorized.head()"
   ]
  },
  {
   "cell_type": "code",
   "execution_count": null,
   "id": "3ee5bf46",
   "metadata": {
    "scrolled": true
   },
   "outputs": [],
   "source": [
    "from sklearn.linear_model import LogisticRegression\n",
    "\n",
    "# 1. Instantiate model\n",
    "credit_logit = LogisticRegression(solver='lbfgs', random_state=1, max_iter=10000)\n",
    "\n",
    "# 2. Fit model\n",
    "credit_logit.fit(X_train_vectorized, y_train);\n"
   ]
  },
  {
   "cell_type": "code",
   "execution_count": null,
   "id": "ba8ae89a",
   "metadata": {},
   "outputs": [],
   "source": [
    "# Transform the test data based on the vectorizer fitted on the train data\n",
    "\n",
    "name_text_transformed = bagofwords.transform(X_test['name_text'])\n",
    "\n",
    "column_names = [('text_' + x) for x in bagofwords.get_feature_names()]\n",
    "\n",
    "sparse_df = pd.DataFrame.sparse.from_spmatrix(name_text_transformed, columns=column_names)\n",
    "sparse_df['name'] = X_test.index\n",
    "sparse_df.set_index('name', inplace=True)"
   ]
  },
  {
   "cell_type": "code",
   "execution_count": null,
   "id": "886f2fe6",
   "metadata": {},
   "outputs": [],
   "source": [
    "X_test_vectorized = pd.concat([X_test, sparse_df], axis=1)\n",
    "X_test_vectorized.drop(columns='name_text',inplace=True)\n",
    "\n"
   ]
  },
  {
   "cell_type": "code",
   "execution_count": null,
   "id": "f6e462f3",
   "metadata": {},
   "outputs": [],
   "source": [
    "credit_logit.score(X_test_vectorized, y_test)"
   ]
  },
  {
   "cell_type": "code",
   "execution_count": null,
   "id": "00c41124",
   "metadata": {
    "scrolled": true
   },
   "outputs": [],
   "source": [
    "y_pred = credit_logit.predict(X_test_vectorized) \n",
    "\n",
    "report_initial = classification_report(y_test, y_pred)\n",
    "print(report_initial)"
   ]
  },
  {
   "cell_type": "markdown",
   "id": "36cfaf07",
   "metadata": {},
   "source": [
    "## Initial Takeaways\n",
    "\n",
    "- Our model is excellent at identifying colorless cards.\n",
    "- Our model has terrible performance at correctly identifying multicolored cards."
   ]
  },
  {
   "cell_type": "code",
   "execution_count": null,
   "id": "bcc606b8",
   "metadata": {},
   "outputs": [],
   "source": []
  },
  {
   "cell_type": "code",
   "execution_count": null,
   "id": "70d825eb",
   "metadata": {},
   "outputs": [],
   "source": []
  },
  {
   "cell_type": "markdown",
   "id": "a2b0657d",
   "metadata": {},
   "source": [
    "## References\n",
    "\n",
    "Inspired by the repository [MTG Color Classifier](https://github.com/Yee-Brian21/MTG-Color-Classifier) by Github user [Yee-Brian21](https://github.com/Yee-Brian21).\n",
    "\n",
    "Credit to the following StackOverflows posts for:\n",
    "\n",
    "- Figuring out how to convert a dataframe to be used with WordCloud:\n",
    "    - https://stackoverflow.com/questions/57826063/how-to-create-a-wordcloud-according-to-frequencies-in-a-pandas-dataframe"
   ]
  },
  {
   "cell_type": "code",
   "execution_count": null,
   "id": "66762fd2",
   "metadata": {},
   "outputs": [],
   "source": []
  },
  {
   "cell_type": "code",
   "execution_count": null,
   "id": "c3fc7335",
   "metadata": {},
   "outputs": [],
   "source": []
  },
  {
   "cell_type": "markdown",
   "id": "636aba98",
   "metadata": {},
   "source": []
  },
  {
   "cell_type": "code",
   "execution_count": null,
   "id": "4b0b9cc7",
   "metadata": {},
   "outputs": [],
   "source": []
  }
 ],
 "metadata": {
  "kernelspec": {
   "display_name": "Python 3 (ipykernel)",
   "language": "python",
   "name": "python3"
  },
  "language_info": {
   "codemirror_mode": {
    "name": "ipython",
    "version": 3
   },
   "file_extension": ".py",
   "mimetype": "text/x-python",
   "name": "python",
   "nbconvert_exporter": "python",
   "pygments_lexer": "ipython3",
   "version": "3.8.13"
  }
 },
 "nbformat": 4,
 "nbformat_minor": 5
}
